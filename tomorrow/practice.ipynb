{
 "cells": [
  {
   "cell_type": "code",
   "execution_count": 28,
   "id": "6d62a588",
   "metadata": {},
   "outputs": [],
   "source": [
    "import pandas as pd\n",
    "import re"
   ]
  },
  {
   "cell_type": "code",
   "execution_count": 50,
   "id": "88cdc931",
   "metadata": {},
   "outputs": [],
   "source": [
    "df = pd.read_csv('./csv/24_03_2023/live/pjm_lic.csv', index_col=False)"
   ]
  },
  {
   "cell_type": "code",
   "execution_count": 51,
   "id": "6c516b0b",
   "metadata": {},
   "outputs": [],
   "source": [
    "right_aligned = df.style.set_properties(**{'text-align': 'right'})"
   ]
  },
  {
   "cell_type": "code",
   "execution_count": 52,
   "id": "81ca11b4",
   "metadata": {},
   "outputs": [
    {
     "data": {
      "text/html": [
       "<style type=\"text/css\">\n",
       "#T_f6d0e_row0_col0, #T_f6d0e_row0_col1, #T_f6d0e_row0_col2, #T_f6d0e_row0_col3, #T_f6d0e_row0_col4, #T_f6d0e_row1_col0, #T_f6d0e_row1_col1, #T_f6d0e_row1_col2, #T_f6d0e_row1_col3, #T_f6d0e_row1_col4, #T_f6d0e_row2_col0, #T_f6d0e_row2_col1, #T_f6d0e_row2_col2, #T_f6d0e_row2_col3, #T_f6d0e_row2_col4 {\n",
       "  text-align: right;\n",
       "}\n",
       "</style>\n",
       "<table id=\"T_f6d0e\">\n",
       "  <thead>\n",
       "    <tr>\n",
       "      <th class=\"blank level0\" >&nbsp;</th>\n",
       "      <th id=\"T_f6d0e_level0_col0\" class=\"col_heading level0 col0\" >Studio</th>\n",
       "      <th id=\"T_f6d0e_level0_col1\" class=\"col_heading level0 col1\" >Start time</th>\n",
       "      <th id=\"T_f6d0e_level0_col2\" class=\"col_heading level0 col2\" >Classes</th>\n",
       "      <th id=\"T_f6d0e_level0_col3\" class=\"col_heading level0 col3\" >Instructor</th>\n",
       "      <th id=\"T_f6d0e_level0_col4\" class=\"col_heading level0 col4\" >Length</th>\n",
       "    </tr>\n",
       "  </thead>\n",
       "  <tbody>\n",
       "    <tr>\n",
       "      <th id=\"T_f6d0e_level0_row0\" class=\"row_heading level0 row0\" >0</th>\n",
       "      <td id=\"T_f6d0e_row0_col0\" class=\"data row0 col0\" >PJM LIC</td>\n",
       "      <td id=\"T_f6d0e_row0_col1\" class=\"data row0 col1\" >5:00 pm</td>\n",
       "      <td id=\"T_f6d0e_row0_col2\" class=\"data row0 col2\" >[LIC] Open Heels - Saki</td>\n",
       "      <td id=\"T_f6d0e_row0_col3\" class=\"data row0 col3\" >Saki</td>\n",
       "      <td id=\"T_f6d0e_row0_col4\" class=\"data row0 col4\" >1 hr 30 min</td>\n",
       "    </tr>\n",
       "    <tr>\n",
       "      <th id=\"T_f6d0e_level0_row1\" class=\"row_heading level0 row1\" >1</th>\n",
       "      <td id=\"T_f6d0e_row1_col0\" class=\"data row1 col0\" >PJM LIC</td>\n",
       "      <td id=\"T_f6d0e_row1_col1\" class=\"data row1 col1\" >6:30 pm</td>\n",
       "      <td id=\"T_f6d0e_row1_col2\" class=\"data row1 col2\" >[LIC] Beg Jazz Funk - Peter Chow</td>\n",
       "      <td id=\"T_f6d0e_row1_col3\" class=\"data row1 col3\" >Peter Chow</td>\n",
       "      <td id=\"T_f6d0e_row1_col4\" class=\"data row1 col4\" >1 hr 30 min</td>\n",
       "    </tr>\n",
       "    <tr>\n",
       "      <th id=\"T_f6d0e_level0_row2\" class=\"row_heading level0 row2\" >2</th>\n",
       "      <td id=\"T_f6d0e_row2_col0\" class=\"data row2 col0\" >PJM LIC</td>\n",
       "      <td id=\"T_f6d0e_row2_col1\" class=\"data row2 col1\" >8:00 pm</td>\n",
       "      <td id=\"T_f6d0e_row2_col2\" class=\"data row2 col2\" >[LIC] Beg Hip Hop - Mini Zhang</td>\n",
       "      <td id=\"T_f6d0e_row2_col3\" class=\"data row2 col3\" >Mini Zhang</td>\n",
       "      <td id=\"T_f6d0e_row2_col4\" class=\"data row2 col4\" >1 hr 30 min</td>\n",
       "    </tr>\n",
       "  </tbody>\n",
       "</table>\n"
      ],
      "text/plain": [
       "<pandas.io.formats.style.Styler at 0x7f951a867f40>"
      ]
     },
     "execution_count": 52,
     "metadata": {},
     "output_type": "execute_result"
    }
   ],
   "source": [
    "right_aligned"
   ]
  },
  {
   "cell_type": "code",
   "execution_count": 53,
   "id": "7da8d5a1",
   "metadata": {},
   "outputs": [],
   "source": [
    "def strip_time(df):\n",
    "    df['Start time'] = df['Start time'].str.split('EDT').str[0]\n",
    "    return df"
   ]
  },
  {
   "cell_type": "code",
   "execution_count": 54,
   "id": "d1935854",
   "metadata": {},
   "outputs": [],
   "source": [
    "def rename_columns(df):\n",
    "    df = df.rename(columns={'Teacher': 'Instructor', 'Class': 'Classes', 'Class Schedule': 'Classes', 'Sessions': 'Classes', 'Link': 'Sign up'}, inplace=True)\n",
    "    return df"
   ]
  },
  {
   "cell_type": "code",
   "execution_count": 55,
   "id": "f67efaf2",
   "metadata": {},
   "outputs": [
    {
     "data": {
      "text/html": [
       "<style type=\"text/css\">\n",
       "#T_f6d0e_row0_col0, #T_f6d0e_row0_col1, #T_f6d0e_row0_col2, #T_f6d0e_row0_col3, #T_f6d0e_row0_col4, #T_f6d0e_row1_col0, #T_f6d0e_row1_col1, #T_f6d0e_row1_col2, #T_f6d0e_row1_col3, #T_f6d0e_row1_col4, #T_f6d0e_row2_col0, #T_f6d0e_row2_col1, #T_f6d0e_row2_col2, #T_f6d0e_row2_col3, #T_f6d0e_row2_col4 {\n",
       "  text-align: right;\n",
       "}\n",
       "</style>\n",
       "<table id=\"T_f6d0e\">\n",
       "  <thead>\n",
       "    <tr>\n",
       "      <th class=\"blank level0\" >&nbsp;</th>\n",
       "      <th id=\"T_f6d0e_level0_col0\" class=\"col_heading level0 col0\" >Studio</th>\n",
       "      <th id=\"T_f6d0e_level0_col1\" class=\"col_heading level0 col1\" >Start time</th>\n",
       "      <th id=\"T_f6d0e_level0_col2\" class=\"col_heading level0 col2\" >Classes</th>\n",
       "      <th id=\"T_f6d0e_level0_col3\" class=\"col_heading level0 col3\" >Instructor</th>\n",
       "      <th id=\"T_f6d0e_level0_col4\" class=\"col_heading level0 col4\" >Length</th>\n",
       "    </tr>\n",
       "  </thead>\n",
       "  <tbody>\n",
       "    <tr>\n",
       "      <th id=\"T_f6d0e_level0_row0\" class=\"row_heading level0 row0\" >0</th>\n",
       "      <td id=\"T_f6d0e_row0_col0\" class=\"data row0 col0\" >PJM LIC</td>\n",
       "      <td id=\"T_f6d0e_row0_col1\" class=\"data row0 col1\" >5:00 pm</td>\n",
       "      <td id=\"T_f6d0e_row0_col2\" class=\"data row0 col2\" >[LIC] Open Heels - Saki</td>\n",
       "      <td id=\"T_f6d0e_row0_col3\" class=\"data row0 col3\" >Saki</td>\n",
       "      <td id=\"T_f6d0e_row0_col4\" class=\"data row0 col4\" >1 hr 30 min</td>\n",
       "    </tr>\n",
       "    <tr>\n",
       "      <th id=\"T_f6d0e_level0_row1\" class=\"row_heading level0 row1\" >1</th>\n",
       "      <td id=\"T_f6d0e_row1_col0\" class=\"data row1 col0\" >PJM LIC</td>\n",
       "      <td id=\"T_f6d0e_row1_col1\" class=\"data row1 col1\" >6:30 pm</td>\n",
       "      <td id=\"T_f6d0e_row1_col2\" class=\"data row1 col2\" >[LIC] Beg Jazz Funk - Peter Chow</td>\n",
       "      <td id=\"T_f6d0e_row1_col3\" class=\"data row1 col3\" >Peter Chow</td>\n",
       "      <td id=\"T_f6d0e_row1_col4\" class=\"data row1 col4\" >1 hr 30 min</td>\n",
       "    </tr>\n",
       "    <tr>\n",
       "      <th id=\"T_f6d0e_level0_row2\" class=\"row_heading level0 row2\" >2</th>\n",
       "      <td id=\"T_f6d0e_row2_col0\" class=\"data row2 col0\" >PJM LIC</td>\n",
       "      <td id=\"T_f6d0e_row2_col1\" class=\"data row2 col1\" >8:00 pm</td>\n",
       "      <td id=\"T_f6d0e_row2_col2\" class=\"data row2 col2\" >[LIC] Beg Hip Hop - Mini Zhang</td>\n",
       "      <td id=\"T_f6d0e_row2_col3\" class=\"data row2 col3\" >Mini Zhang</td>\n",
       "      <td id=\"T_f6d0e_row2_col4\" class=\"data row2 col4\" >1 hr 30 min</td>\n",
       "    </tr>\n",
       "  </tbody>\n",
       "</table>\n"
      ],
      "text/plain": [
       "<pandas.io.formats.style.Styler at 0x7f951a867f40>"
      ]
     },
     "execution_count": 55,
     "metadata": {},
     "output_type": "execute_result"
    }
   ],
   "source": [
    "strip_time(df)\n",
    "rename_columns(df)\n",
    "right_aligned"
   ]
  },
  {
   "cell_type": "code",
   "execution_count": 58,
   "id": "52f56f1e",
   "metadata": {},
   "outputs": [],
   "source": [
    "def add_null_signups(df):\n",
    "    df['Sign up'] = df.get('Sign up', 'none')   \n",
    "    return df "
   ]
  },
  {
   "cell_type": "code",
   "execution_count": 57,
   "id": "78cf59a2",
   "metadata": {},
   "outputs": [
    {
     "data": {
      "text/html": [
       "<style type=\"text/css\">\n",
       "#T_f6d0e_row0_col0, #T_f6d0e_row0_col1, #T_f6d0e_row0_col2, #T_f6d0e_row0_col3, #T_f6d0e_row0_col4, #T_f6d0e_row0_col5, #T_f6d0e_row1_col0, #T_f6d0e_row1_col1, #T_f6d0e_row1_col2, #T_f6d0e_row1_col3, #T_f6d0e_row1_col4, #T_f6d0e_row1_col5, #T_f6d0e_row2_col0, #T_f6d0e_row2_col1, #T_f6d0e_row2_col2, #T_f6d0e_row2_col3, #T_f6d0e_row2_col4, #T_f6d0e_row2_col5 {\n",
       "  text-align: right;\n",
       "}\n",
       "</style>\n",
       "<table id=\"T_f6d0e\">\n",
       "  <thead>\n",
       "    <tr>\n",
       "      <th class=\"blank level0\" >&nbsp;</th>\n",
       "      <th id=\"T_f6d0e_level0_col0\" class=\"col_heading level0 col0\" >Studio</th>\n",
       "      <th id=\"T_f6d0e_level0_col1\" class=\"col_heading level0 col1\" >Start time</th>\n",
       "      <th id=\"T_f6d0e_level0_col2\" class=\"col_heading level0 col2\" >Classes</th>\n",
       "      <th id=\"T_f6d0e_level0_col3\" class=\"col_heading level0 col3\" >Instructor</th>\n",
       "      <th id=\"T_f6d0e_level0_col4\" class=\"col_heading level0 col4\" >Length</th>\n",
       "      <th id=\"T_f6d0e_level0_col5\" class=\"col_heading level0 col5\" >Sign up</th>\n",
       "    </tr>\n",
       "  </thead>\n",
       "  <tbody>\n",
       "    <tr>\n",
       "      <th id=\"T_f6d0e_level0_row0\" class=\"row_heading level0 row0\" >0</th>\n",
       "      <td id=\"T_f6d0e_row0_col0\" class=\"data row0 col0\" >PJM LIC</td>\n",
       "      <td id=\"T_f6d0e_row0_col1\" class=\"data row0 col1\" >5:00 pm</td>\n",
       "      <td id=\"T_f6d0e_row0_col2\" class=\"data row0 col2\" >[LIC] Open Heels - Saki</td>\n",
       "      <td id=\"T_f6d0e_row0_col3\" class=\"data row0 col3\" >Saki</td>\n",
       "      <td id=\"T_f6d0e_row0_col4\" class=\"data row0 col4\" >1 hr 30 min</td>\n",
       "      <td id=\"T_f6d0e_row0_col5\" class=\"data row0 col5\" >null</td>\n",
       "    </tr>\n",
       "    <tr>\n",
       "      <th id=\"T_f6d0e_level0_row1\" class=\"row_heading level0 row1\" >1</th>\n",
       "      <td id=\"T_f6d0e_row1_col0\" class=\"data row1 col0\" >PJM LIC</td>\n",
       "      <td id=\"T_f6d0e_row1_col1\" class=\"data row1 col1\" >6:30 pm</td>\n",
       "      <td id=\"T_f6d0e_row1_col2\" class=\"data row1 col2\" >[LIC] Beg Jazz Funk - Peter Chow</td>\n",
       "      <td id=\"T_f6d0e_row1_col3\" class=\"data row1 col3\" >Peter Chow</td>\n",
       "      <td id=\"T_f6d0e_row1_col4\" class=\"data row1 col4\" >1 hr 30 min</td>\n",
       "      <td id=\"T_f6d0e_row1_col5\" class=\"data row1 col5\" >null</td>\n",
       "    </tr>\n",
       "    <tr>\n",
       "      <th id=\"T_f6d0e_level0_row2\" class=\"row_heading level0 row2\" >2</th>\n",
       "      <td id=\"T_f6d0e_row2_col0\" class=\"data row2 col0\" >PJM LIC</td>\n",
       "      <td id=\"T_f6d0e_row2_col1\" class=\"data row2 col1\" >8:00 pm</td>\n",
       "      <td id=\"T_f6d0e_row2_col2\" class=\"data row2 col2\" >[LIC] Beg Hip Hop - Mini Zhang</td>\n",
       "      <td id=\"T_f6d0e_row2_col3\" class=\"data row2 col3\" >Mini Zhang</td>\n",
       "      <td id=\"T_f6d0e_row2_col4\" class=\"data row2 col4\" >1 hr 30 min</td>\n",
       "      <td id=\"T_f6d0e_row2_col5\" class=\"data row2 col5\" >null</td>\n",
       "    </tr>\n",
       "  </tbody>\n",
       "</table>\n"
      ],
      "text/plain": [
       "<pandas.io.formats.style.Styler at 0x7f951a867f40>"
      ]
     },
     "execution_count": 57,
     "metadata": {},
     "output_type": "execute_result"
    }
   ],
   "source": [
    "add_null_signups(df)\n",
    "right_aligned"
   ]
  },
  {
   "cell_type": "code",
   "execution_count": 6,
   "id": "cfa3cbdd",
   "metadata": {},
   "outputs": [],
   "source": [
    "def shorten_class_level(df):\n",
    "    df['Classes'] = df['Classes'].str.replace('beginner', 'Beg',case=False)\n",
    "    df['Classes'] = df['Classes'].str.replace('foundations', 'Found',case=False)\n",
    "    df['Classes'] = df['Classes'].str.replace('foundation', 'Found',case=False)\n",
    "    df['Classes'] = df['Classes'].str.replace('introduction', 'Intro',case=False)\n",
    "    df['Classes'] = df['Classes'].str.replace('intermediate', 'Int',case=False)\n",
    "    df['Classes'] = df['Classes'].str.replace('inter', 'Int',case=False)\n",
    "    df['Classes'] = df['Classes'].str.replace('advanced', 'Adv',case=False)\n",
    "    return df"
   ]
  },
  {
   "cell_type": "code",
   "execution_count": 7,
   "id": "8444a8c7",
   "metadata": {},
   "outputs": [],
   "source": [
    "def change_hyphenation_of_class_level(df):\n",
    "    df['Classes'] = df['Classes'].str.replace('Beg - Int', 'Beg/Int',case=False)\n",
    "    df['Classes'] = df['Classes'].str.replace('Int - Beg', 'Int/Ben',case=False)\n",
    "    df['Classes'] = df['Classes'].str.replace('Int - Adv', 'Int/Adv',case=False)\n",
    "    df['Classes'] = df['Classes'].str.replace('Adv - Int', 'Adv/Int',case=False)\n",
    "    return df"
   ]
  },
  {
   "cell_type": "code",
   "execution_count": 8,
   "id": "4e81eaf1",
   "metadata": {},
   "outputs": [],
   "source": [
    "def remove_class_location(df):\n",
    "    df['Classes'] = df['Classes'].str.replace('live-streaming', '',case=False)\n",
    "    df['Classes'] = df['Classes'].str.replace('live-stream', '',case=False)\n",
    "    df['Classes'] = df['Classes'].str.replace('livestream', '',case=False)\n",
    "    df['Classes'] = df['Classes'].str.replace('live', '',case=False)\n",
    "    df['Classes'] = df['Classes'].str.replace('in-studio', '',case=False)\n",
    "    df['Classes'] = df['Classes'].str.replace('in-person', '',case=False)\n",
    "    df['Classes'] = df['Classes'].str.replace('studio', '',case=False)\n",
    "    df['Classes'] = df['Classes'].str.replace('online', '',case=False)\n",
    "    df['Classes'] = df['Classes'].str.replace('virtual', '',case=False)\n",
    "    df['Classes'] = df['Classes'].str.replace('lic', '',case=False)\n",
    "    df['Classes'] = df['Classes'].str.replace('man', '',case=False)\n",
    "    df['Classes'] = df['Classes'].str.replace(':', '',case=False)\n",
    "    df['Classes'] = df['Classes'].str.replace('®', '',case=False)\n",
    "    df['Classes'] = df['Classes'].str.replace('™', '',case=False)\n",
    "    return df"
   ]
  },
  {
   "cell_type": "code",
   "execution_count": 9,
   "id": "0161bc46",
   "metadata": {},
   "outputs": [],
   "source": [
    "def remove_instructor_from_class(df):\n",
    "    df['Classes'] = df['Classes'].str.split('with').str[0]\n",
    "    df['Classes'] = df['Classes'].str.split(' - ').str[0]\n",
    "    return df"
   ]
  },
  {
   "cell_type": "code",
   "execution_count": 10,
   "id": "7c9a1c48",
   "metadata": {},
   "outputs": [],
   "source": [
    "def remove_masks_from_instructor(df):\n",
    "    df['Instructor'] = df['Instructor'].str.replace(r'\\(masks optional\\)','',case=False, regex=True)\n",
    "    df['Instructor'] = df['Instructor'].str.replace(r'\\(mask optional\\)','',case=False, regex=True)\n",
    "    df['Instructor'] = df['Instructor'].str.replace(r'\\(masks required\\)','',case=False, regex=True)\n",
    "    df['Instructor'] = df['Instructor'].str.replace(r'\\(mask required\\)','',case=False, regex=True)\n",
    "    return df"
   ]
  },
  {
   "cell_type": "code",
   "execution_count": 11,
   "id": "5916f177",
   "metadata": {},
   "outputs": [],
   "source": [
    "def remove_type_from_instructor(df):\n",
    "    #Peridance\n",
    "    df['Instructor'] = df['Instructor'].str.replace(r'^.+:', '', regex=True)\n",
    "    df['Instructor'] = df['Instructor'].str.replace(r'\\|.*$', '', regex=True)\n",
    "    return df"
   ]
  },
  {
   "cell_type": "code",
   "execution_count": 12,
   "id": "351c81b9",
   "metadata": {},
   "outputs": [],
   "source": [
    "def remove_quotes_from_instructor(df):\n",
    "    df['Instructor'] = df['Instructor'].str.replace('\"', '', case=False)\n",
    "    return df"
   ]
  },
  {
   "cell_type": "code",
   "execution_count": 13,
   "id": "09878bf1",
   "metadata": {},
   "outputs": [],
   "source": [
    "def remove_colon_from_class(df):\n",
    "    # mark_morris has weird contemporary\n",
    "    df['Classes'] = df['Classes'].str.replace('contemporary:', 'contemporary',case=False)\n",
    "#     df['Classes'] = df['Classes'].str.split(':').str[1]\n",
    "    df['Classes'] = df['Classes'].replace(r'^.+:', '', regex=True)\n",
    "    return df"
   ]
  },
  {
   "cell_type": "code",
   "execution_count": 14,
   "id": "f183f64f",
   "metadata": {},
   "outputs": [],
   "source": [
    "def remove_brackets_from_class(df):\n",
    "    df['Classes'] = df['Classes'].str.replace('[()]', '', regex=True)\n",
    "    df['Classes'] = df['Classes'].str.replace('[\\[\\]]', '', regex=True)\n",
    "    return df"
   ]
  },
  {
   "cell_type": "code",
   "execution_count": 15,
   "id": "a3a4c6a3",
   "metadata": {},
   "outputs": [],
   "source": [
    "def shorten_class_style(df):\n",
    "    df['Classes'] = df['Classes'].str.replace('contemporary', 'Contemp', case=False)\n",
    "    df['Classes'] = df['Classes'].str.replace('commercial', 'Comm', case=False)\n",
    "    df['Classes'] = df['Classes'].str.replace('choreography', 'Choreo', case=False)\n",
    "    return df"
   ]
  },
  {
   "cell_type": "code",
   "execution_count": 16,
   "id": "7c769397",
   "metadata": {},
   "outputs": [],
   "source": [
    "def titleize_classes(df, series):\n",
    "    df[series] = df[series].str.title()\n",
    "    return df"
   ]
  },
  {
   "cell_type": "code",
   "execution_count": 17,
   "id": "64b9e834",
   "metadata": {},
   "outputs": [],
   "source": [
    "def strip_df(df):\n",
    "    return df.applymap(lambda x: x.strip() if isinstance(x, str) else x)"
   ]
  },
  {
   "cell_type": "code",
   "execution_count": 18,
   "id": "ae697f6d",
   "metadata": {},
   "outputs": [],
   "source": [
    "def fix_ild_studios(filename, df):\n",
    "    if filename == 'ild_nj.csv':\n",
    "        df = df.replace('ILoveDance', 'ILoveDance NJ')\n",
    "    elif filename == 'ild_manhattan.csv':\n",
    "        df = df.replace('ILoveDance', 'ILoveDance NYC')\n",
    "    elif filename == 'ild_queens.csv':\n",
    "        df = df.replace('ILoveDance', 'ILoveDance Queens')\n",
    "    return df"
   ]
  },
  {
   "cell_type": "code",
   "execution_count": 19,
   "id": "6eaa62e5",
   "metadata": {},
   "outputs": [
    {
     "data": {
      "text/html": [
       "<div>\n",
       "<style scoped>\n",
       "    .dataframe tbody tr th:only-of-type {\n",
       "        vertical-align: middle;\n",
       "    }\n",
       "\n",
       "    .dataframe tbody tr th {\n",
       "        vertical-align: top;\n",
       "    }\n",
       "\n",
       "    .dataframe thead th {\n",
       "        text-align: right;\n",
       "    }\n",
       "</style>\n",
       "<table border=\"1\" class=\"dataframe\">\n",
       "  <thead>\n",
       "    <tr style=\"text-align: right;\">\n",
       "      <th></th>\n",
       "      <th>Studio</th>\n",
       "      <th>Start time</th>\n",
       "      <th>Classes</th>\n",
       "      <th>Instructor</th>\n",
       "    </tr>\n",
       "  </thead>\n",
       "  <tbody>\n",
       "    <tr>\n",
       "      <th>0</th>\n",
       "      <td>Gramercy Studios</td>\n",
       "      <td>4:00pm</td>\n",
       "      <td>Beg Choreo</td>\n",
       "      <td>Shmulik Stell</td>\n",
       "    </tr>\n",
       "    <tr>\n",
       "      <th>1</th>\n",
       "      <td>Gramercy Studios</td>\n",
       "      <td>5:30pm</td>\n",
       "      <td>Int Hip Hop</td>\n",
       "      <td>Robert Taylor Jr.</td>\n",
       "    </tr>\n",
       "    <tr>\n",
       "      <th>2</th>\n",
       "      <td>Gramercy Studios</td>\n",
       "      <td>7:00pm</td>\n",
       "      <td>Open Level Reggaeton</td>\n",
       "      <td>jahaira crystal</td>\n",
       "    </tr>\n",
       "    <tr>\n",
       "      <th>3</th>\n",
       "      <td>Gramercy Studios</td>\n",
       "      <td>8:30 pm</td>\n",
       "      <td>Beg House</td>\n",
       "      <td>Natasha ivory</td>\n",
       "    </tr>\n",
       "  </tbody>\n",
       "</table>\n",
       "</div>"
      ],
      "text/plain": [
       "             Studio Start time               Classes         Instructor\n",
       "0  Gramercy Studios     4:00pm            Beg Choreo      Shmulik Stell\n",
       "1  Gramercy Studios     5:30pm           Int Hip Hop  Robert Taylor Jr.\n",
       "2  Gramercy Studios     7:00pm  Open Level Reggaeton    jahaira crystal\n",
       "3  Gramercy Studios    8:30 pm             Beg House      Natasha ivory"
      ]
     },
     "execution_count": 19,
     "metadata": {},
     "output_type": "execute_result"
    }
   ],
   "source": [
    "strip_time(df)\n",
    "rename_columns(df)\n",
    "remove_colon_from_class(df)\n",
    "remove_brackets_from_class(df)\n",
    "remove_class_location(df)\n",
    "remove_quotes_from_instructor(df)\n",
    "remove_type_from_instructor(df)\n",
    "shorten_class_level(df)\n",
    "change_hyphenation_of_class_level(df)\n",
    "remove_instructor_from_class(df)\n",
    "remove_masks_from_instructor(df)\n",
    "shorten_class_style(df)\n",
    "titleize_classes(df, 'Classes')"
   ]
  },
  {
   "cell_type": "code",
   "execution_count": 20,
   "id": "85773fab",
   "metadata": {},
   "outputs": [],
   "source": [
    "def get_social_columns(df):\n",
    "    return df[['Studio','Start time','Classes','Instructor']]"
   ]
  },
  {
   "cell_type": "code",
   "execution_count": 21,
   "id": "f7d7528d",
   "metadata": {},
   "outputs": [
    {
     "name": "stdout",
     "output_type": "stream",
     "text": [
      "hi\n"
     ]
    }
   ],
   "source": [
    "remove_instructor_from_class(df)\n",
    "print('hi')"
   ]
  },
  {
   "cell_type": "code",
   "execution_count": 22,
   "id": "1948d296",
   "metadata": {},
   "outputs": [],
   "source": [
    "def shorten_class_style(df):\n",
    "    df['Classes'] = df['Classes'].str.replace('contemporary', 'Contemp', case=False)"
   ]
  },
  {
   "cell_type": "code",
   "execution_count": 23,
   "id": "fdac0233",
   "metadata": {},
   "outputs": [],
   "source": [
    "df = df.dropna()\n",
    "df = get_social_columns(strip_df(df))"
   ]
  },
  {
   "cell_type": "code",
   "execution_count": 24,
   "id": "3a9745cd",
   "metadata": {},
   "outputs": [],
   "source": [
    "df.to_csv(f'csv/22_03_2023/test.csv', index=False)"
   ]
  },
  {
   "cell_type": "code",
   "execution_count": 25,
   "id": "09f27623",
   "metadata": {},
   "outputs": [],
   "source": [
    "df = df.applymap(lambda x: x.replace('\"', ''))\n",
    "df = df.applymap(lambda x: x.replace(\"'\", ''))"
   ]
  },
  {
   "cell_type": "code",
   "execution_count": 26,
   "id": "1a5ec17f",
   "metadata": {},
   "outputs": [
    {
     "data": {
      "text/html": [
       "<div>\n",
       "<style scoped>\n",
       "    .dataframe tbody tr th:only-of-type {\n",
       "        vertical-align: middle;\n",
       "    }\n",
       "\n",
       "    .dataframe tbody tr th {\n",
       "        vertical-align: top;\n",
       "    }\n",
       "\n",
       "    .dataframe thead th {\n",
       "        text-align: right;\n",
       "    }\n",
       "</style>\n",
       "<table border=\"1\" class=\"dataframe\">\n",
       "  <thead>\n",
       "    <tr style=\"text-align: right;\">\n",
       "      <th></th>\n",
       "      <th>Studio</th>\n",
       "      <th>Start time</th>\n",
       "      <th>Classes</th>\n",
       "      <th>Instructor</th>\n",
       "    </tr>\n",
       "  </thead>\n",
       "  <tbody>\n",
       "    <tr>\n",
       "      <th>0</th>\n",
       "      <td>Gramercy Studios</td>\n",
       "      <td>4:00pm</td>\n",
       "      <td>Beg Choreo</td>\n",
       "      <td>Shmulik Stell</td>\n",
       "    </tr>\n",
       "    <tr>\n",
       "      <th>1</th>\n",
       "      <td>Gramercy Studios</td>\n",
       "      <td>5:30pm</td>\n",
       "      <td>Int Hip Hop</td>\n",
       "      <td>Robert Taylor Jr.</td>\n",
       "    </tr>\n",
       "    <tr>\n",
       "      <th>2</th>\n",
       "      <td>Gramercy Studios</td>\n",
       "      <td>7:00pm</td>\n",
       "      <td>Open Level Reggaeton</td>\n",
       "      <td>jahaira crystal</td>\n",
       "    </tr>\n",
       "    <tr>\n",
       "      <th>3</th>\n",
       "      <td>Gramercy Studios</td>\n",
       "      <td>8:30 pm</td>\n",
       "      <td>Beg House</td>\n",
       "      <td>Natasha ivory</td>\n",
       "    </tr>\n",
       "  </tbody>\n",
       "</table>\n",
       "</div>"
      ],
      "text/plain": [
       "             Studio Start time               Classes         Instructor\n",
       "0  Gramercy Studios     4:00pm            Beg Choreo      Shmulik Stell\n",
       "1  Gramercy Studios     5:30pm           Int Hip Hop  Robert Taylor Jr.\n",
       "2  Gramercy Studios     7:00pm  Open Level Reggaeton    jahaira crystal\n",
       "3  Gramercy Studios    8:30 pm             Beg House      Natasha ivory"
      ]
     },
     "execution_count": 26,
     "metadata": {},
     "output_type": "execute_result"
    }
   ],
   "source": [
    "df"
   ]
  },
  {
   "cell_type": "code",
   "execution_count": 27,
   "id": "f657e9eb",
   "metadata": {},
   "outputs": [],
   "source": [
    "df['Start time'] = df['Start time'].replace(to_replace=r'(am|pm)', value=r'\\1', regex=True)\n",
    "df['Start time'] = df['Start time'].replace(r' ', '', regex=True)"
   ]
  },
  {
   "cell_type": "code",
   "execution_count": 30,
   "id": "ddfb0b9e",
   "metadata": {},
   "outputs": [
    {
     "data": {
      "text/plain": [
       "0    4:00pm\n",
       "1    5:30pm\n",
       "2    7:00pm\n",
       "3    8:30pm\n",
       "Name: Start time, dtype: object"
      ]
     },
     "execution_count": 30,
     "metadata": {},
     "output_type": "execute_result"
    }
   ],
   "source": [
    "df['Start time']"
   ]
  },
  {
   "cell_type": "code",
   "execution_count": 29,
   "id": "87ab26b5",
   "metadata": {},
   "outputs": [
    {
     "ename": "NameError",
     "evalue": "name 'datetime' is not defined",
     "output_type": "error",
     "traceback": [
      "\u001b[0;31m---------------------------------------------------------------------------\u001b[0m",
      "\u001b[0;31mNameError\u001b[0m                                 Traceback (most recent call last)",
      "Input \u001b[0;32mIn [29]\u001b[0m, in \u001b[0;36m<cell line: 1>\u001b[0;34m()\u001b[0m\n\u001b[0;32m----> 1\u001b[0m time_obj \u001b[38;5;241m=\u001b[39m \u001b[43mdatetime\u001b[49m\u001b[38;5;241m.\u001b[39mdatetime\u001b[38;5;241m.\u001b[39mstrptime(\u001b[38;5;124m'\u001b[39m\u001b[38;5;124m10:00 am\u001b[39m\u001b[38;5;124m'\u001b[39m, \u001b[38;5;124m'\u001b[39m\u001b[38;5;124m%\u001b[39m\u001b[38;5;124mI:\u001b[39m\u001b[38;5;124m%\u001b[39m\u001b[38;5;124mM \u001b[39m\u001b[38;5;124m%\u001b[39m\u001b[38;5;124mp\u001b[39m\u001b[38;5;124m'\u001b[39m)\n\u001b[1;32m      2\u001b[0m time_obj\n",
      "\u001b[0;31mNameError\u001b[0m: name 'datetime' is not defined"
     ]
    }
   ],
   "source": [
    "time_obj = datetime.datetime.strptime('10:00 am', '%I:%M %p')\n",
    "time_obj"
   ]
  },
  {
   "cell_type": "code",
   "execution_count": null,
   "id": "a5da79a0",
   "metadata": {},
   "outputs": [],
   "source": [
    "import datetime"
   ]
  },
  {
   "cell_type": "code",
   "execution_count": null,
   "id": "f4f6029d",
   "metadata": {},
   "outputs": [],
   "source": []
  }
 ],
 "metadata": {
  "kernelspec": {
   "display_name": "Python 3 (ipykernel)",
   "language": "python",
   "name": "python3"
  },
  "language_info": {
   "codemirror_mode": {
    "name": "ipython",
    "version": 3
   },
   "file_extension": ".py",
   "mimetype": "text/x-python",
   "name": "python",
   "nbconvert_exporter": "python",
   "pygments_lexer": "ipython3",
   "version": "3.9.12"
  }
 },
 "nbformat": 4,
 "nbformat_minor": 5
}
