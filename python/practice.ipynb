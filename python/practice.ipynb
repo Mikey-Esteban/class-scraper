{
 "cells": [
  {
   "cell_type": "code",
   "execution_count": 1,
   "id": "6d62a588",
   "metadata": {},
   "outputs": [],
   "source": [
    "import pandas as pd\n",
    "import re"
   ]
  },
  {
   "cell_type": "code",
   "execution_count": 2,
   "id": "88cdc931",
   "metadata": {},
   "outputs": [],
   "source": [
    "df = pd.read_csv('./csv/17_03_2023/live/atdf.csv', index_col=False)"
   ]
  },
  {
   "cell_type": "code",
   "execution_count": 3,
   "id": "6c516b0b",
   "metadata": {},
   "outputs": [],
   "source": [
    "right_aligned = df.style.set_properties(**{'text-align': 'right'})"
   ]
  },
  {
   "cell_type": "code",
   "execution_count": 4,
   "id": "f9226a02",
   "metadata": {},
   "outputs": [
    {
     "data": {
      "text/html": [
       "<style type=\"text/css\">\n",
       "#T_98574_row0_col0, #T_98574_row0_col1, #T_98574_row0_col2, #T_98574_row0_col3, #T_98574_row0_col4 {\n",
       "  text-align: right;\n",
       "}\n",
       "</style>\n",
       "<table id=\"T_98574\">\n",
       "  <thead>\n",
       "    <tr>\n",
       "      <th class=\"blank level0\" >&nbsp;</th>\n",
       "      <th id=\"T_98574_level0_col0\" class=\"col_heading level0 col0\" >Start time</th>\n",
       "      <th id=\"T_98574_level0_col1\" class=\"col_heading level0 col1\" >Sign up</th>\n",
       "      <th id=\"T_98574_level0_col2\" class=\"col_heading level0 col2\" >Classes</th>\n",
       "      <th id=\"T_98574_level0_col3\" class=\"col_heading level0 col3\" >Teacher</th>\n",
       "      <th id=\"T_98574_level0_col4\" class=\"col_heading level0 col4\" >Duration</th>\n",
       "    </tr>\n",
       "  </thead>\n",
       "  <tbody>\n",
       "    <tr>\n",
       "      <th id=\"T_98574_level0_row0\" class=\"row_heading level0 row0\" >0</th>\n",
       "      <td id=\"T_98574_row0_col0\" class=\"data row0 col0\" >6:15 pm  EDT</td>\n",
       "      <td id=\"T_98574_row0_col1\" class=\"data row0 col1\" >/ASP/res_a.asp?tg=22&classId=2030&classDate=3/17/2023&clsLoc=1</td>\n",
       "      <td id=\"T_98574_row0_col2\" class=\"data row0 col2\" >Basic</td>\n",
       "      <td id=\"T_98574_row0_col3\" class=\"data row0 col3\" >Sandra Kluge</td>\n",
       "      <td id=\"T_98574_row0_col4\" class=\"data row0 col4\" >1 hour & 15 minutes</td>\n",
       "    </tr>\n",
       "  </tbody>\n",
       "</table>\n"
      ],
      "text/plain": [
       "<pandas.io.formats.style.Styler at 0x7f89c29aae80>"
      ]
     },
     "execution_count": 4,
     "metadata": {},
     "output_type": "execute_result"
    }
   ],
   "source": [
    "right_aligned"
   ]
  },
  {
   "cell_type": "code",
   "execution_count": 5,
   "id": "2efc4f1f",
   "metadata": {},
   "outputs": [],
   "source": [
    "def strip_time(df):\n",
    "    df['Start time'] = df['Start time'].str.split('EDT').str[0]\n",
    "    return df"
   ]
  },
  {
   "cell_type": "code",
   "execution_count": 6,
   "id": "cfa3cbdd",
   "metadata": {},
   "outputs": [
    {
     "name": "stdout",
     "output_type": "stream",
     "text": [
      "hi\n"
     ]
    }
   ],
   "source": [
    "strip_time(df)\n",
    "print('hi')"
   ]
  },
  {
   "cell_type": "code",
   "execution_count": 7,
   "id": "0f932e68",
   "metadata": {},
   "outputs": [],
   "source": [
    "def rename_columns(df):\n",
    "    df = df.rename(columns={'Teacher': 'Instructor', 'Class': 'Classes'}, inplace=True)\n",
    "    return df"
   ]
  },
  {
   "cell_type": "code",
   "execution_count": 8,
   "id": "eb92cbcc",
   "metadata": {},
   "outputs": [],
   "source": [
    "rename_columns(df)"
   ]
  },
  {
   "cell_type": "code",
   "execution_count": 9,
   "id": "191302ee",
   "metadata": {},
   "outputs": [
    {
     "data": {
      "text/html": [
       "<div>\n",
       "<style scoped>\n",
       "    .dataframe tbody tr th:only-of-type {\n",
       "        vertical-align: middle;\n",
       "    }\n",
       "\n",
       "    .dataframe tbody tr th {\n",
       "        vertical-align: top;\n",
       "    }\n",
       "\n",
       "    .dataframe thead th {\n",
       "        text-align: right;\n",
       "    }\n",
       "</style>\n",
       "<table border=\"1\" class=\"dataframe\">\n",
       "  <thead>\n",
       "    <tr style=\"text-align: right;\">\n",
       "      <th></th>\n",
       "      <th>Start time</th>\n",
       "      <th>Sign up</th>\n",
       "      <th>Classes</th>\n",
       "      <th>Instructor</th>\n",
       "      <th>Duration</th>\n",
       "    </tr>\n",
       "  </thead>\n",
       "  <tbody>\n",
       "    <tr>\n",
       "      <th>0</th>\n",
       "      <td>6:15 pm</td>\n",
       "      <td>/ASP/res_a.asp?tg=22&amp;classId=2030&amp;classDate=3/...</td>\n",
       "      <td>Basic</td>\n",
       "      <td>Sandra Kluge</td>\n",
       "      <td>1 hour &amp; 15 minutes</td>\n",
       "    </tr>\n",
       "  </tbody>\n",
       "</table>\n",
       "</div>"
      ],
      "text/plain": [
       "  Start time                                            Sign up Classes  \\\n",
       "0  6:15 pm    /ASP/res_a.asp?tg=22&classId=2030&classDate=3/...   Basic   \n",
       "\n",
       "     Instructor             Duration  \n",
       "0  Sandra Kluge  1 hour & 15 minutes  "
      ]
     },
     "execution_count": 9,
     "metadata": {},
     "output_type": "execute_result"
    }
   ],
   "source": [
    "df"
   ]
  },
  {
   "cell_type": "code",
   "execution_count": 10,
   "id": "7c9a1c48",
   "metadata": {},
   "outputs": [
    {
     "data": {
      "text/plain": [
       "0    Basic\n",
       "Name: Classes, dtype: object"
      ]
     },
     "execution_count": 10,
     "metadata": {},
     "output_type": "execute_result"
    }
   ],
   "source": [
    "df['Classes']"
   ]
  },
  {
   "cell_type": "code",
   "execution_count": 11,
   "id": "5916f177",
   "metadata": {},
   "outputs": [],
   "source": [
    "def shorten_class_level(df):\n",
    "    df['Classes'] = df['Classes'].str.replace('beginner', 'Beg',case=False)\n",
    "    df['Classes'] = df['Classes'].str.replace('foundations', 'Found',case=False)\n",
    "    df['Classes'] = df['Classes'].str.replace('foundation', 'Found',case=False)\n",
    "    df['Classes'] = df['Classes'].str.replace('introduction', 'Intro',case=False)\n",
    "    df['Classes'] = df['Classes'].str.replace('intermediate', 'Int',case=False)\n",
    "    df['Classes'] = df['Classes'].str.replace('inter', 'Int',case=False)\n",
    "    df['Classes'] = df['Classes'].str.replace('advanced', 'Adv',case=False)\n",
    "    return df"
   ]
  },
  {
   "cell_type": "code",
   "execution_count": 12,
   "id": "351c81b9",
   "metadata": {},
   "outputs": [],
   "source": [
    "def remove_class_location(df):\n",
    "    df['Classes'] = df['Classes'].str.replace('live-streaming', '',case=False)\n",
    "    df['Classes'] = df['Classes'].str.replace('live-stream', '',case=False)\n",
    "    df['Classes'] = df['Classes'].str.replace('livestream', '',case=False)\n",
    "    df['Classes'] = df['Classes'].str.replace('live', '',case=False)\n",
    "    df['Classes'] = df['Classes'].str.replace('in-studio', '',case=False)\n",
    "    df['Classes'] = df['Classes'].str.replace('in-person', '',case=False)\n",
    "    df['Classes'] = df['Classes'].str.replace('studio', '',case=False)\n",
    "    df['Classes'] = df['Classes'].str.replace('online', '',case=False)\n",
    "    df['Classes'] = df['Classes'].str.replace('virtual', '',case=False)\n",
    "    df['Classes'] = df['Classes'].str.replace('lic', '',case=False)\n",
    "    df['Classes'] = df['Classes'].str.replace('man', '',case=False)\n",
    "    df['Classes'] = df['Classes'].str.replace(':', '',case=False)\n",
    "    return df"
   ]
  },
  {
   "cell_type": "code",
   "execution_count": 13,
   "id": "0a668365",
   "metadata": {},
   "outputs": [],
   "source": [
    "# run after remove_class_location\n",
    "def remove_teacher_from_class(df):\n",
    "    df['Classes'] = df['Classes'].str.split('with').str[0]\n",
    "    df['Classes'] = df['Classes'].str.split('-').str[0]\n",
    "    return df"
   ]
  },
  {
   "cell_type": "code",
   "execution_count": 14,
   "id": "16c3c8ce",
   "metadata": {},
   "outputs": [],
   "source": [
    "def remove_type_from_instructor(df):\n",
    "    #Peridance\n",
    "    df['Instructor'] = df['Instructor'].str.replace(r'^.+:', '', regex=True)\n",
    "    df['Instructor'] = df['Instructor'].str.replace(r'\\|.*$', '', regex=True)\n",
    "    return df"
   ]
  },
  {
   "cell_type": "code",
   "execution_count": 15,
   "id": "56a3b2db",
   "metadata": {},
   "outputs": [],
   "source": [
    "def remove_colon_from_class(df):\n",
    "    # mark_morris has weird contemporary\n",
    "    df['Classes'] = df['Classes'].str.replace('contemporary:', 'contemporary',case=False)\n",
    "#     df['Classes'] = df['Classes'].str.split(':').str[1]\n",
    "    df['Classes'] = df['Classes'].replace(r'^.+:', '', regex=True)\n",
    "    return df"
   ]
  },
  {
   "cell_type": "code",
   "execution_count": 16,
   "id": "9452d243",
   "metadata": {},
   "outputs": [],
   "source": [
    "def remove_brackets_from_class(df):\n",
    "    df['Classes'] = df['Classes'].str.replace('[()]', '', regex=True)\n",
    "    df['Classes'] = df['Classes'].str.replace('[\\[\\]]', '', regex=True)\n",
    "    return df"
   ]
  },
  {
   "cell_type": "code",
   "execution_count": 17,
   "id": "e30091a4",
   "metadata": {},
   "outputs": [
    {
     "name": "stdout",
     "output_type": "stream",
     "text": [
      "hi\n"
     ]
    }
   ],
   "source": [
    "remove_colon_from_class(df)\n",
    "print('hi')"
   ]
  },
  {
   "cell_type": "code",
   "execution_count": 18,
   "id": "88be26c2",
   "metadata": {},
   "outputs": [
    {
     "name": "stdout",
     "output_type": "stream",
     "text": [
      "hi\n"
     ]
    }
   ],
   "source": [
    "remove_brackets_from_class(df)\n",
    "print('hi')"
   ]
  },
  {
   "cell_type": "code",
   "execution_count": 19,
   "id": "2dbde855",
   "metadata": {},
   "outputs": [
    {
     "name": "stdout",
     "output_type": "stream",
     "text": [
      "hi\n"
     ]
    }
   ],
   "source": [
    "remove_class_location(df)\n",
    "print('hi')"
   ]
  },
  {
   "cell_type": "code",
   "execution_count": 20,
   "id": "2233df4d",
   "metadata": {},
   "outputs": [
    {
     "name": "stdout",
     "output_type": "stream",
     "text": [
      "hi\n"
     ]
    }
   ],
   "source": [
    "remove_type_from_instructor(df)\n",
    "print('hi')"
   ]
  },
  {
   "cell_type": "code",
   "execution_count": 21,
   "id": "85773fab",
   "metadata": {},
   "outputs": [
    {
     "name": "stdout",
     "output_type": "stream",
     "text": [
      "hi\n"
     ]
    }
   ],
   "source": [
    "shorten_class_level(df)\n",
    "print('hi')"
   ]
  },
  {
   "cell_type": "code",
   "execution_count": 22,
   "id": "d8bd6a24",
   "metadata": {},
   "outputs": [
    {
     "name": "stdout",
     "output_type": "stream",
     "text": [
      "hi\n"
     ]
    }
   ],
   "source": [
    "remove_teacher_from_class(df)\n",
    "print('hi')"
   ]
  },
  {
   "cell_type": "code",
   "execution_count": 23,
   "id": "1948d296",
   "metadata": {},
   "outputs": [],
   "source": [
    "def shorten_class_style(df):\n",
    "    df['Classes'] = df['Classes'].str.replace('contemporary', 'Contemp', case=False)"
   ]
  },
  {
   "cell_type": "code",
   "execution_count": 24,
   "id": "fdac0233",
   "metadata": {},
   "outputs": [
    {
     "name": "stdout",
     "output_type": "stream",
     "text": [
      "hi\n"
     ]
    }
   ],
   "source": [
    "shorten_class_style(df)\n",
    "print('hi')"
   ]
  },
  {
   "cell_type": "code",
   "execution_count": 25,
   "id": "48bca10f",
   "metadata": {},
   "outputs": [],
   "source": [
    "def create_title(series):\n",
    "    df[series] = df[series].str.title()\n",
    "    return df"
   ]
  },
  {
   "cell_type": "code",
   "execution_count": 26,
   "id": "9bcb6b96",
   "metadata": {},
   "outputs": [
    {
     "name": "stdout",
     "output_type": "stream",
     "text": [
      "hi\n"
     ]
    }
   ],
   "source": [
    "create_title('Classes')\n",
    "print('hi')"
   ]
  },
  {
   "cell_type": "code",
   "execution_count": 27,
   "id": "611f8569",
   "metadata": {},
   "outputs": [],
   "source": [
    "df = df.dropna()"
   ]
  },
  {
   "cell_type": "code",
   "execution_count": 28,
   "id": "c339eed2",
   "metadata": {},
   "outputs": [
    {
     "data": {
      "text/html": [
       "<style type=\"text/css\">\n",
       "#T_72584_row0_col0, #T_72584_row0_col1, #T_72584_row0_col2, #T_72584_row0_col3, #T_72584_row0_col4 {\n",
       "  text-align: right;\n",
       "}\n",
       "</style>\n",
       "<table id=\"T_72584\">\n",
       "  <thead>\n",
       "    <tr>\n",
       "      <th class=\"blank level0\" >&nbsp;</th>\n",
       "      <th id=\"T_72584_level0_col0\" class=\"col_heading level0 col0\" >Start time</th>\n",
       "      <th id=\"T_72584_level0_col1\" class=\"col_heading level0 col1\" >Sign up</th>\n",
       "      <th id=\"T_72584_level0_col2\" class=\"col_heading level0 col2\" >Classes</th>\n",
       "      <th id=\"T_72584_level0_col3\" class=\"col_heading level0 col3\" >Instructor</th>\n",
       "      <th id=\"T_72584_level0_col4\" class=\"col_heading level0 col4\" >Duration</th>\n",
       "    </tr>\n",
       "  </thead>\n",
       "  <tbody>\n",
       "    <tr>\n",
       "      <th id=\"T_72584_level0_row0\" class=\"row_heading level0 row0\" >0</th>\n",
       "      <td id=\"T_72584_row0_col0\" class=\"data row0 col0\" >6:15 pm  </td>\n",
       "      <td id=\"T_72584_row0_col1\" class=\"data row0 col1\" >/ASP/res_a.asp?tg=22&classId=2030&classDate=3/17/2023&clsLoc=1</td>\n",
       "      <td id=\"T_72584_row0_col2\" class=\"data row0 col2\" >Basic</td>\n",
       "      <td id=\"T_72584_row0_col3\" class=\"data row0 col3\" >Sandra Kluge</td>\n",
       "      <td id=\"T_72584_row0_col4\" class=\"data row0 col4\" >1 hour & 15 minutes</td>\n",
       "    </tr>\n",
       "  </tbody>\n",
       "</table>\n"
      ],
      "text/plain": [
       "<pandas.io.formats.style.Styler at 0x7f89c29aab50>"
      ]
     },
     "execution_count": 28,
     "metadata": {},
     "output_type": "execute_result"
    }
   ],
   "source": [
    "df.style.set_properties(**{'text-align': 'right'})"
   ]
  },
  {
   "cell_type": "code",
   "execution_count": null,
   "id": "c3f0c3c5",
   "metadata": {},
   "outputs": [],
   "source": []
  },
  {
   "cell_type": "code",
   "execution_count": null,
   "id": "78b3cc54",
   "metadata": {},
   "outputs": [],
   "source": []
  }
 ],
 "metadata": {
  "kernelspec": {
   "display_name": "Python 3 (ipykernel)",
   "language": "python",
   "name": "python3"
  },
  "language_info": {
   "codemirror_mode": {
    "name": "ipython",
    "version": 3
   },
   "file_extension": ".py",
   "mimetype": "text/x-python",
   "name": "python",
   "nbconvert_exporter": "python",
   "pygments_lexer": "ipython3",
   "version": "3.9.12"
  }
 },
 "nbformat": 4,
 "nbformat_minor": 5
}
