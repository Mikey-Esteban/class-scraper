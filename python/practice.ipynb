{
 "cells": [
  {
   "cell_type": "code",
   "execution_count": 1,
   "id": "6d62a588",
   "metadata": {},
   "outputs": [],
   "source": [
    "import pandas as pd\n",
    "import re"
   ]
  },
  {
   "cell_type": "code",
   "execution_count": 2,
   "id": "88cdc931",
   "metadata": {},
   "outputs": [],
   "source": [
    "df = pd.read_csv('./csv/17_03_2023/live/taylor.csv', index_col=False)"
   ]
  },
  {
   "cell_type": "code",
   "execution_count": 3,
   "id": "6c516b0b",
   "metadata": {},
   "outputs": [],
   "source": [
    "right_aligned = df.style.set_properties(**{'text-align': 'right'})"
   ]
  },
  {
   "cell_type": "code",
   "execution_count": 4,
   "id": "336261c5",
   "metadata": {},
   "outputs": [
    {
     "data": {
      "text/html": [
       "<style type=\"text/css\">\n",
       "#T_43fea_row0_col0, #T_43fea_row0_col1, #T_43fea_row0_col2, #T_43fea_row0_col3, #T_43fea_row0_col4, #T_43fea_row0_col5, #T_43fea_row0_col6, #T_43fea_row0_col7 {\n",
       "  text-align: right;\n",
       "}\n",
       "</style>\n",
       "<table id=\"T_43fea\">\n",
       "  <thead>\n",
       "    <tr>\n",
       "      <th class=\"blank level0\" >&nbsp;</th>\n",
       "      <th id=\"T_43fea_level0_col0\" class=\"col_heading level0 col0\" >Studio</th>\n",
       "      <th id=\"T_43fea_level0_col1\" class=\"col_heading level0 col1\" >Start time</th>\n",
       "      <th id=\"T_43fea_level0_col2\" class=\"col_heading level0 col2\" >Sign up</th>\n",
       "      <th id=\"T_43fea_level0_col3\" class=\"col_heading level0 col3\" >Classes</th>\n",
       "      <th id=\"T_43fea_level0_col4\" class=\"col_heading level0 col4\" >Teacher</th>\n",
       "      <th id=\"T_43fea_level0_col5\" class=\"col_heading level0 col5\" >Assistant</th>\n",
       "      <th id=\"T_43fea_level0_col6\" class=\"col_heading level0 col6\" >Musician</th>\n",
       "      <th id=\"T_43fea_level0_col7\" class=\"col_heading level0 col7\" >Duration</th>\n",
       "    </tr>\n",
       "  </thead>\n",
       "  <tbody>\n",
       "    <tr>\n",
       "      <th id=\"T_43fea_level0_row0\" class=\"row_heading level0 row0\" >0</th>\n",
       "      <td id=\"T_43fea_row0_col0\" class=\"data row0 col0\" >The Taylor School</td>\n",
       "      <td id=\"T_43fea_row0_col1\" class=\"data row0 col1\" >10:00 am  EDT</td>\n",
       "      <td id=\"T_43fea_row0_col2\" class=\"data row0 col2\" >/ASP/res_a.asp?tg=25&classId=3526&classDate=3/17/2023&clsLoc=1</td>\n",
       "      <td id=\"T_43fea_row0_col3\" class=\"data row0 col3\" >Master Class Series</td>\n",
       "      <td id=\"T_43fea_row0_col4\" class=\"data row0 col4\" >Winston Brown</td>\n",
       "      <td id=\"T_43fea_row0_col5\" class=\"data row0 col5\" >none</td>\n",
       "      <td id=\"T_43fea_row0_col6\" class=\"data row0 col6\" >Mal Stein</td>\n",
       "      <td id=\"T_43fea_row0_col7\" class=\"data row0 col7\" >1 hour & 30 minutes</td>\n",
       "    </tr>\n",
       "  </tbody>\n",
       "</table>\n"
      ],
      "text/plain": [
       "<pandas.io.formats.style.Styler at 0x7fcaa2019df0>"
      ]
     },
     "execution_count": 4,
     "metadata": {},
     "output_type": "execute_result"
    }
   ],
   "source": [
    "right_aligned"
   ]
  },
  {
   "cell_type": "code",
   "execution_count": 5,
   "id": "e40fcbf0",
   "metadata": {},
   "outputs": [],
   "source": [
    "def strip_time(df):\n",
    "    df['Start time'] = df['Start time'].str.split('EDT').str[0]\n",
    "    return df"
   ]
  },
  {
   "cell_type": "code",
   "execution_count": 6,
   "id": "cfa3cbdd",
   "metadata": {},
   "outputs": [
    {
     "name": "stdout",
     "output_type": "stream",
     "text": [
      "hi\n"
     ]
    }
   ],
   "source": [
    "strip_time(df)\n",
    "print('hi')"
   ]
  },
  {
   "cell_type": "code",
   "execution_count": 7,
   "id": "63c30407",
   "metadata": {},
   "outputs": [],
   "source": [
    "def rename_columns(df):\n",
    "    df = df.rename(columns={'Teacher': 'Instructor', 'Class': 'Classes', 'Class Schedule': 'Classes', 'Sessions': 'Classes'}, inplace=True)\n",
    "    return df"
   ]
  },
  {
   "cell_type": "code",
   "execution_count": 8,
   "id": "3b2cf538",
   "metadata": {},
   "outputs": [],
   "source": [
    "rename_columns(df)"
   ]
  },
  {
   "cell_type": "code",
   "execution_count": 9,
   "id": "2b16b5fa",
   "metadata": {},
   "outputs": [
    {
     "data": {
      "text/html": [
       "<div>\n",
       "<style scoped>\n",
       "    .dataframe tbody tr th:only-of-type {\n",
       "        vertical-align: middle;\n",
       "    }\n",
       "\n",
       "    .dataframe tbody tr th {\n",
       "        vertical-align: top;\n",
       "    }\n",
       "\n",
       "    .dataframe thead th {\n",
       "        text-align: right;\n",
       "    }\n",
       "</style>\n",
       "<table border=\"1\" class=\"dataframe\">\n",
       "  <thead>\n",
       "    <tr style=\"text-align: right;\">\n",
       "      <th></th>\n",
       "      <th>Studio</th>\n",
       "      <th>Start time</th>\n",
       "      <th>Sign up</th>\n",
       "      <th>Classes</th>\n",
       "      <th>Instructor</th>\n",
       "      <th>Assistant</th>\n",
       "      <th>Musician</th>\n",
       "      <th>Duration</th>\n",
       "    </tr>\n",
       "  </thead>\n",
       "  <tbody>\n",
       "    <tr>\n",
       "      <th>0</th>\n",
       "      <td>The Taylor School</td>\n",
       "      <td>10:00 am</td>\n",
       "      <td>/ASP/res_a.asp?tg=25&amp;classId=3526&amp;classDate=3/...</td>\n",
       "      <td>Master Class Series</td>\n",
       "      <td>Winston Brown</td>\n",
       "      <td>none</td>\n",
       "      <td>Mal Stein</td>\n",
       "      <td>1 hour &amp; 30 minutes</td>\n",
       "    </tr>\n",
       "  </tbody>\n",
       "</table>\n",
       "</div>"
      ],
      "text/plain": [
       "              Studio  Start time  \\\n",
       "0  The Taylor School  10:00 am     \n",
       "\n",
       "                                             Sign up              Classes  \\\n",
       "0  /ASP/res_a.asp?tg=25&classId=3526&classDate=3/...  Master Class Series   \n",
       "\n",
       "      Instructor Assistant   Musician             Duration  \n",
       "0  Winston Brown      none  Mal Stein  1 hour & 30 minutes  "
      ]
     },
     "execution_count": 9,
     "metadata": {},
     "output_type": "execute_result"
    }
   ],
   "source": [
    "df"
   ]
  },
  {
   "cell_type": "code",
   "execution_count": 10,
   "id": "7c9a1c48",
   "metadata": {},
   "outputs": [
    {
     "data": {
      "text/plain": [
       "0    Master Class Series\n",
       "Name: Classes, dtype: object"
      ]
     },
     "execution_count": 10,
     "metadata": {},
     "output_type": "execute_result"
    }
   ],
   "source": [
    "df['Classes']"
   ]
  },
  {
   "cell_type": "code",
   "execution_count": 11,
   "id": "5916f177",
   "metadata": {},
   "outputs": [],
   "source": [
    "def shorten_class_level(df):\n",
    "    df['Classes'] = df['Classes'].str.replace('beginner', 'Beg',case=False)\n",
    "    df['Classes'] = df['Classes'].str.replace('foundations', 'Found',case=False)\n",
    "    df['Classes'] = df['Classes'].str.replace('foundation', 'Found',case=False)\n",
    "    df['Classes'] = df['Classes'].str.replace('introduction', 'Intro',case=False)\n",
    "    df['Classes'] = df['Classes'].str.replace('intermediate', 'Int',case=False)\n",
    "    df['Classes'] = df['Classes'].str.replace('inter', 'Int',case=False)\n",
    "    df['Classes'] = df['Classes'].str.replace('advanced', 'Adv',case=False)\n",
    "    return df"
   ]
  },
  {
   "cell_type": "code",
   "execution_count": 12,
   "id": "351c81b9",
   "metadata": {},
   "outputs": [],
   "source": [
    "def remove_class_location(df):\n",
    "    df['Classes'] = df['Classes'].str.replace('live-streaming', '',case=False)\n",
    "    df['Classes'] = df['Classes'].str.replace('live-stream', '',case=False)\n",
    "    df['Classes'] = df['Classes'].str.replace('livestream', '',case=False)\n",
    "    df['Classes'] = df['Classes'].str.replace('live', '',case=False)\n",
    "    df['Classes'] = df['Classes'].str.replace('in-studio', '',case=False)\n",
    "    df['Classes'] = df['Classes'].str.replace('in-person', '',case=False)\n",
    "    df['Classes'] = df['Classes'].str.replace('studio', '',case=False)\n",
    "    df['Classes'] = df['Classes'].str.replace('online', '',case=False)\n",
    "    df['Classes'] = df['Classes'].str.replace('virtual', '',case=False)\n",
    "    df['Classes'] = df['Classes'].str.replace('lic', '',case=False)\n",
    "    df['Classes'] = df['Classes'].str.replace('man', '',case=False)\n",
    "    df['Classes'] = df['Classes'].str.replace(':', '',case=False)\n",
    "    return df"
   ]
  },
  {
   "cell_type": "code",
   "execution_count": 13,
   "id": "44784f9a",
   "metadata": {},
   "outputs": [],
   "source": [
    "# run after remove_class_location\n",
    "def remove_teacher_from_class(df):\n",
    "    df['Classes'] = df['Classes'].str.split('with').str[0]\n",
    "    df['Classes'] = df['Classes'].str.split('-').str[0]\n",
    "    return df"
   ]
  },
  {
   "cell_type": "code",
   "execution_count": 14,
   "id": "7b0362a4",
   "metadata": {},
   "outputs": [],
   "source": [
    "def remove_type_from_instructor(df):\n",
    "    #Peridance\n",
    "    df['Instructor'] = df['Instructor'].str.replace(r'^.+:', '', regex=True)\n",
    "    df['Instructor'] = df['Instructor'].str.replace(r'\\|.*$', '', regex=True)\n",
    "    return df"
   ]
  },
  {
   "cell_type": "code",
   "execution_count": 15,
   "id": "aecc159c",
   "metadata": {},
   "outputs": [],
   "source": [
    "def remove_colon_from_class(df):\n",
    "    # mark_morris has weird contemporary\n",
    "    df['Classes'] = df['Classes'].str.replace('contemporary:', 'contemporary',case=False)\n",
    "#     df['Classes'] = df['Classes'].str.split(':').str[1]\n",
    "    df['Classes'] = df['Classes'].replace(r'^.+:', '', regex=True)\n",
    "    return df"
   ]
  },
  {
   "cell_type": "code",
   "execution_count": 16,
   "id": "6d334b62",
   "metadata": {},
   "outputs": [],
   "source": [
    "def remove_brackets_from_class(df):\n",
    "    df['Classes'] = df['Classes'].str.replace('[()]', '', regex=True)\n",
    "    df['Classes'] = df['Classes'].str.replace('[\\[\\]]', '', regex=True)\n",
    "    return df"
   ]
  },
  {
   "cell_type": "code",
   "execution_count": 17,
   "id": "df7ac147",
   "metadata": {},
   "outputs": [
    {
     "name": "stdout",
     "output_type": "stream",
     "text": [
      "hi\n"
     ]
    }
   ],
   "source": [
    "remove_colon_from_class(df)\n",
    "print('hi')"
   ]
  },
  {
   "cell_type": "code",
   "execution_count": 18,
   "id": "70328e43",
   "metadata": {},
   "outputs": [
    {
     "name": "stdout",
     "output_type": "stream",
     "text": [
      "hi\n"
     ]
    }
   ],
   "source": [
    "remove_brackets_from_class(df)\n",
    "print('hi')"
   ]
  },
  {
   "cell_type": "code",
   "execution_count": 19,
   "id": "89b1e731",
   "metadata": {},
   "outputs": [
    {
     "name": "stdout",
     "output_type": "stream",
     "text": [
      "hi\n"
     ]
    }
   ],
   "source": [
    "remove_class_location(df)\n",
    "print('hi')"
   ]
  },
  {
   "cell_type": "code",
   "execution_count": 20,
   "id": "ad943976",
   "metadata": {},
   "outputs": [
    {
     "name": "stdout",
     "output_type": "stream",
     "text": [
      "hi\n"
     ]
    }
   ],
   "source": [
    "remove_type_from_instructor(df)\n",
    "print('hi')"
   ]
  },
  {
   "cell_type": "code",
   "execution_count": 21,
   "id": "85773fab",
   "metadata": {},
   "outputs": [
    {
     "name": "stdout",
     "output_type": "stream",
     "text": [
      "hi\n"
     ]
    }
   ],
   "source": [
    "shorten_class_level(df)\n",
    "print('hi')"
   ]
  },
  {
   "cell_type": "code",
   "execution_count": 22,
   "id": "94869af6",
   "metadata": {},
   "outputs": [
    {
     "name": "stdout",
     "output_type": "stream",
     "text": [
      "hi\n"
     ]
    }
   ],
   "source": [
    "remove_teacher_from_class(df)\n",
    "print('hi')"
   ]
  },
  {
   "cell_type": "code",
   "execution_count": 23,
   "id": "1948d296",
   "metadata": {},
   "outputs": [],
   "source": [
    "def shorten_class_style(df):\n",
    "    df['Classes'] = df['Classes'].str.replace('contemporary', 'Contemp', case=False)"
   ]
  },
  {
   "cell_type": "code",
   "execution_count": 24,
   "id": "fdac0233",
   "metadata": {},
   "outputs": [
    {
     "name": "stdout",
     "output_type": "stream",
     "text": [
      "hi\n"
     ]
    }
   ],
   "source": [
    "shorten_class_style(df)\n",
    "print('hi')"
   ]
  },
  {
   "cell_type": "code",
   "execution_count": 25,
   "id": "dc7f45de",
   "metadata": {},
   "outputs": [],
   "source": [
    "def create_title(series):\n",
    "    df[series] = df[series].str.title()\n",
    "    return df"
   ]
  },
  {
   "cell_type": "code",
   "execution_count": 26,
   "id": "d62af4eb",
   "metadata": {},
   "outputs": [
    {
     "name": "stdout",
     "output_type": "stream",
     "text": [
      "hi\n"
     ]
    }
   ],
   "source": [
    "create_title('Classes')\n",
    "print('hi')"
   ]
  },
  {
   "cell_type": "code",
   "execution_count": 27,
   "id": "611f8569",
   "metadata": {},
   "outputs": [],
   "source": [
    "df = df.dropna()"
   ]
  },
  {
   "cell_type": "code",
   "execution_count": 28,
   "id": "e88e1d97",
   "metadata": {},
   "outputs": [
    {
     "data": {
      "text/html": [
       "<style type=\"text/css\">\n",
       "#T_4a0a7_row0_col0, #T_4a0a7_row0_col1, #T_4a0a7_row0_col2, #T_4a0a7_row0_col3, #T_4a0a7_row0_col4, #T_4a0a7_row0_col5, #T_4a0a7_row0_col6, #T_4a0a7_row0_col7 {\n",
       "  text-align: right;\n",
       "}\n",
       "</style>\n",
       "<table id=\"T_4a0a7\">\n",
       "  <thead>\n",
       "    <tr>\n",
       "      <th class=\"blank level0\" >&nbsp;</th>\n",
       "      <th id=\"T_4a0a7_level0_col0\" class=\"col_heading level0 col0\" >Studio</th>\n",
       "      <th id=\"T_4a0a7_level0_col1\" class=\"col_heading level0 col1\" >Start time</th>\n",
       "      <th id=\"T_4a0a7_level0_col2\" class=\"col_heading level0 col2\" >Sign up</th>\n",
       "      <th id=\"T_4a0a7_level0_col3\" class=\"col_heading level0 col3\" >Classes</th>\n",
       "      <th id=\"T_4a0a7_level0_col4\" class=\"col_heading level0 col4\" >Instructor</th>\n",
       "      <th id=\"T_4a0a7_level0_col5\" class=\"col_heading level0 col5\" >Assistant</th>\n",
       "      <th id=\"T_4a0a7_level0_col6\" class=\"col_heading level0 col6\" >Musician</th>\n",
       "      <th id=\"T_4a0a7_level0_col7\" class=\"col_heading level0 col7\" >Duration</th>\n",
       "    </tr>\n",
       "  </thead>\n",
       "  <tbody>\n",
       "    <tr>\n",
       "      <th id=\"T_4a0a7_level0_row0\" class=\"row_heading level0 row0\" >0</th>\n",
       "      <td id=\"T_4a0a7_row0_col0\" class=\"data row0 col0\" >The Taylor School</td>\n",
       "      <td id=\"T_4a0a7_row0_col1\" class=\"data row0 col1\" >10:00 am  </td>\n",
       "      <td id=\"T_4a0a7_row0_col2\" class=\"data row0 col2\" >/ASP/res_a.asp?tg=25&classId=3526&classDate=3/17/2023&clsLoc=1</td>\n",
       "      <td id=\"T_4a0a7_row0_col3\" class=\"data row0 col3\" >Master Class Series</td>\n",
       "      <td id=\"T_4a0a7_row0_col4\" class=\"data row0 col4\" >Winston Brown</td>\n",
       "      <td id=\"T_4a0a7_row0_col5\" class=\"data row0 col5\" >none</td>\n",
       "      <td id=\"T_4a0a7_row0_col6\" class=\"data row0 col6\" >Mal Stein</td>\n",
       "      <td id=\"T_4a0a7_row0_col7\" class=\"data row0 col7\" >1 hour & 30 minutes</td>\n",
       "    </tr>\n",
       "  </tbody>\n",
       "</table>\n"
      ],
      "text/plain": [
       "<pandas.io.formats.style.Styler at 0x7fcaa2019cd0>"
      ]
     },
     "execution_count": 28,
     "metadata": {},
     "output_type": "execute_result"
    }
   ],
   "source": [
    "df.style.set_properties(**{'text-align': 'right'})"
   ]
  },
  {
   "cell_type": "code",
   "execution_count": null,
   "id": "711979a2",
   "metadata": {},
   "outputs": [],
   "source": []
  },
  {
   "cell_type": "code",
   "execution_count": null,
   "id": "7af7a667",
   "metadata": {},
   "outputs": [],
   "source": []
  }
 ],
 "metadata": {
  "kernelspec": {
   "display_name": "Python 3 (ipykernel)",
   "language": "python",
   "name": "python3"
  },
  "language_info": {
   "codemirror_mode": {
    "name": "ipython",
    "version": 3
   },
   "file_extension": ".py",
   "mimetype": "text/x-python",
   "name": "python",
   "nbconvert_exporter": "python",
   "pygments_lexer": "ipython3",
   "version": "3.9.12"
  }
 },
 "nbformat": 4,
 "nbformat_minor": 5
}
