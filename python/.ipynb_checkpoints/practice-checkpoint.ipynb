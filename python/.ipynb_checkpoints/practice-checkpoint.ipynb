{
 "cells": [
  {
   "cell_type": "code",
   "execution_count": 1,
   "id": "6d62a588",
   "metadata": {},
   "outputs": [],
   "source": [
    "import pandas as pd\n",
    "import re"
   ]
  },
  {
   "cell_type": "code",
   "execution_count": 2,
   "id": "88cdc931",
   "metadata": {},
   "outputs": [],
   "source": [
    "df = pd.read_csv('./csv/17_03_2023/pjm_manhattan.csv', index_col=False)"
   ]
  },
  {
   "cell_type": "code",
   "execution_count": 3,
   "id": "6c516b0b",
   "metadata": {},
   "outputs": [],
   "source": [
    "right_aligned = df.style.set_properties(**{'text-align': 'right'})"
   ]
  },
  {
   "cell_type": "code",
   "execution_count": 4,
   "id": "b4dbda5e",
   "metadata": {},
   "outputs": [
    {
     "data": {
      "text/html": [
       "<style type=\"text/css\">\n",
       "#T_6bd76_row0_col0, #T_6bd76_row0_col1, #T_6bd76_row0_col2, #T_6bd76_row0_col3 {\n",
       "  text-align: right;\n",
       "}\n",
       "</style>\n",
       "<table id=\"T_6bd76\">\n",
       "  <thead>\n",
       "    <tr>\n",
       "      <th class=\"blank level0\" >&nbsp;</th>\n",
       "      <th id=\"T_6bd76_level0_col0\" class=\"col_heading level0 col0\" >Start time</th>\n",
       "      <th id=\"T_6bd76_level0_col1\" class=\"col_heading level0 col1\" >Classes</th>\n",
       "      <th id=\"T_6bd76_level0_col2\" class=\"col_heading level0 col2\" >Instructor</th>\n",
       "      <th id=\"T_6bd76_level0_col3\" class=\"col_heading level0 col3\" >Length</th>\n",
       "    </tr>\n",
       "  </thead>\n",
       "  <tbody>\n",
       "    <tr>\n",
       "      <th id=\"T_6bd76_level0_row0\" class=\"row_heading level0 row0\" >0</th>\n",
       "      <td id=\"T_6bd76_row0_col0\" class=\"data row0 col0\" >6:30 pm</td>\n",
       "      <td id=\"T_6bd76_row0_col1\" class=\"data row0 col1\" >[MAN] Open Level Kpop - Joy</td>\n",
       "      <td id=\"T_6bd76_row0_col2\" class=\"data row0 col2\" >Joy</td>\n",
       "      <td id=\"T_6bd76_row0_col3\" class=\"data row0 col3\" >1 hr 30 min</td>\n",
       "    </tr>\n",
       "  </tbody>\n",
       "</table>\n"
      ],
      "text/plain": [
       "<pandas.io.formats.style.Styler at 0x7fcb1836ae80>"
      ]
     },
     "execution_count": 4,
     "metadata": {},
     "output_type": "execute_result"
    }
   ],
   "source": [
    "right_aligned"
   ]
  },
  {
   "cell_type": "code",
   "execution_count": 5,
   "id": "9f2cbbd4",
   "metadata": {},
   "outputs": [],
   "source": [
    "def strip_time(df):\n",
    "    df['Start time'] = df['Start time'].str.split('EDT').str[0]\n",
    "    return df"
   ]
  },
  {
   "cell_type": "code",
   "execution_count": 6,
   "id": "cfa3cbdd",
   "metadata": {},
   "outputs": [
    {
     "name": "stdout",
     "output_type": "stream",
     "text": [
      "hi\n"
     ]
    }
   ],
   "source": [
    "strip_time(df)\n",
    "print('hi')"
   ]
  },
  {
   "cell_type": "code",
   "execution_count": 7,
   "id": "f2c3b6cf",
   "metadata": {},
   "outputs": [],
   "source": [
    "def rename_columns(df):\n",
    "    df = df.rename(columns={'Teacher': 'Instructor', 'Class': 'Classes'}, inplace=True)\n",
    "    return df"
   ]
  },
  {
   "cell_type": "code",
   "execution_count": 8,
   "id": "a173dd82",
   "metadata": {},
   "outputs": [],
   "source": [
    "rename_columns(df)"
   ]
  },
  {
   "cell_type": "code",
   "execution_count": 9,
   "id": "27b4f0c2",
   "metadata": {},
   "outputs": [
    {
     "data": {
      "text/html": [
       "<div>\n",
       "<style scoped>\n",
       "    .dataframe tbody tr th:only-of-type {\n",
       "        vertical-align: middle;\n",
       "    }\n",
       "\n",
       "    .dataframe tbody tr th {\n",
       "        vertical-align: top;\n",
       "    }\n",
       "\n",
       "    .dataframe thead th {\n",
       "        text-align: right;\n",
       "    }\n",
       "</style>\n",
       "<table border=\"1\" class=\"dataframe\">\n",
       "  <thead>\n",
       "    <tr style=\"text-align: right;\">\n",
       "      <th></th>\n",
       "      <th>Start time</th>\n",
       "      <th>Classes</th>\n",
       "      <th>Instructor</th>\n",
       "      <th>Length</th>\n",
       "    </tr>\n",
       "  </thead>\n",
       "  <tbody>\n",
       "    <tr>\n",
       "      <th>0</th>\n",
       "      <td>6:30 pm</td>\n",
       "      <td>[MAN] Open Level Kpop - Joy</td>\n",
       "      <td>Joy</td>\n",
       "      <td>1 hr 30 min</td>\n",
       "    </tr>\n",
       "  </tbody>\n",
       "</table>\n",
       "</div>"
      ],
      "text/plain": [
       "  Start time                      Classes Instructor       Length\n",
       "0    6:30 pm  [MAN] Open Level Kpop - Joy        Joy  1 hr 30 min"
      ]
     },
     "execution_count": 9,
     "metadata": {},
     "output_type": "execute_result"
    }
   ],
   "source": [
    "df"
   ]
  },
  {
   "cell_type": "code",
   "execution_count": 10,
   "id": "7c9a1c48",
   "metadata": {},
   "outputs": [
    {
     "data": {
      "text/plain": [
       "0    [MAN] Open Level Kpop - Joy\n",
       "Name: Classes, dtype: object"
      ]
     },
     "execution_count": 10,
     "metadata": {},
     "output_type": "execute_result"
    }
   ],
   "source": [
    "df['Classes']"
   ]
  },
  {
   "cell_type": "code",
   "execution_count": 11,
   "id": "5916f177",
   "metadata": {},
   "outputs": [],
   "source": [
    "def shorten_class_level(df):\n",
    "    df['Classes'] = df['Classes'].str.replace('beginner', 'Beg',case=False)\n",
    "    df['Classes'] = df['Classes'].str.replace('foundations', 'Found',case=False)\n",
    "    df['Classes'] = df['Classes'].str.replace('foundation', 'Found',case=False)\n",
    "    df['Classes'] = df['Classes'].str.replace('introduction', 'Intro',case=False)\n",
    "    df['Classes'] = df['Classes'].str.replace('intermediate', 'Int',case=False)\n",
    "    df['Classes'] = df['Classes'].str.replace('inter', 'Int',case=False)\n",
    "    df['Classes'] = df['Classes'].str.replace('advanced', 'Adv',case=False)\n",
    "    return df"
   ]
  },
  {
   "cell_type": "code",
   "execution_count": 12,
   "id": "351c81b9",
   "metadata": {},
   "outputs": [],
   "source": [
    "def remove_class_location(df):\n",
    "    df['Classes'] = df['Classes'].str.replace('live-streaming', '',case=False)\n",
    "    df['Classes'] = df['Classes'].str.replace('live-stream', '',case=False)\n",
    "    df['Classes'] = df['Classes'].str.replace('livestream', '',case=False)\n",
    "    df['Classes'] = df['Classes'].str.replace('live', '',case=False)\n",
    "    df['Classes'] = df['Classes'].str.replace('in-studio', '',case=False)\n",
    "    df['Classes'] = df['Classes'].str.replace('in-person', '',case=False)\n",
    "    df['Classes'] = df['Classes'].str.replace('studio', '',case=False)\n",
    "    df['Classes'] = df['Classes'].str.replace('online', '',case=False)\n",
    "    df['Classes'] = df['Classes'].str.replace('virtual', '',case=False)\n",
    "    df['Classes'] = df['Classes'].str.replace('lic', '',case=False)\n",
    "    df['Classes'] = df['Classes'].str.replace('man', '',case=False)\n",
    "    df['Classes'] = df['Classes'].str.replace(':', '',case=False)\n",
    "    return df"
   ]
  },
  {
   "cell_type": "code",
   "execution_count": 13,
   "id": "9d7a66c9",
   "metadata": {},
   "outputs": [],
   "source": [
    "def remove_teacher_from_class(df):\n",
    "    df['Classes'] = df['Classes'].str.split('with').str[0]\n",
    "    df['Classes'] = df['Classes'].str.split('-').str[0]\n",
    "    return df"
   ]
  },
  {
   "cell_type": "code",
   "execution_count": 14,
   "id": "f40e10f2",
   "metadata": {},
   "outputs": [],
   "source": [
    "def remove_type_from_instructor(df):\n",
    "    #Peridance\n",
    "    df['Instructor'] = df['Instructor'].str.replace(r'^.+:', '', regex=True)\n",
    "    df['Instructor'] = df['Instructor'].str.replace(r'\\|.*$', '', regex=True)\n",
    "    return df"
   ]
  },
  {
   "cell_type": "code",
   "execution_count": 15,
   "id": "0bafbbf5",
   "metadata": {},
   "outputs": [],
   "source": [
    "def remove_colon_from_class(df):\n",
    "    # mark_morris has weird contemporary\n",
    "    df['Classes'] = df['Classes'].str.replace('contemporary:', 'contemporary',case=False)\n",
    "#     df['Classes'] = df['Classes'].str.split(':').str[1]\n",
    "    df['Classes'] = df['Classes'].replace(r'^.+:', '', regex=True)\n",
    "    return df"
   ]
  },
  {
   "cell_type": "code",
   "execution_count": 16,
   "id": "3d06c3fd",
   "metadata": {},
   "outputs": [],
   "source": [
    "def remove_brackets_from_class(df):\n",
    "    df['Classes'] = df['Classes'].str.replace('[()]', '', regex=True)\n",
    "    df['Classes'] = df['Classes'].str.replace('[\\[\\]]', '', regex=True)\n",
    "    return df"
   ]
  },
  {
   "cell_type": "code",
   "execution_count": 17,
   "id": "9fe550fa",
   "metadata": {},
   "outputs": [
    {
     "name": "stdout",
     "output_type": "stream",
     "text": [
      "hi\n"
     ]
    }
   ],
   "source": [
    "remove_colon_from_class(df)\n",
    "print('hi')"
   ]
  },
  {
   "cell_type": "code",
   "execution_count": 18,
   "id": "60ea2744",
   "metadata": {},
   "outputs": [
    {
     "name": "stdout",
     "output_type": "stream",
     "text": [
      "hi\n"
     ]
    }
   ],
   "source": [
    "remove_brackets_from_class(df)\n",
    "print('hi')"
   ]
  },
  {
   "cell_type": "code",
   "execution_count": 19,
   "id": "45560724",
   "metadata": {},
   "outputs": [
    {
     "name": "stdout",
     "output_type": "stream",
     "text": [
      "hi\n"
     ]
    }
   ],
   "source": [
    "remove_teacher_from_class(df)\n",
    "print('hi')"
   ]
  },
  {
   "cell_type": "code",
   "execution_count": 20,
   "id": "411dbbdb",
   "metadata": {},
   "outputs": [
    {
     "name": "stdout",
     "output_type": "stream",
     "text": [
      "hi\n"
     ]
    }
   ],
   "source": [
    "remove_type_from_instructor(df)\n",
    "print('hi')"
   ]
  },
  {
   "cell_type": "code",
   "execution_count": 21,
   "id": "85773fab",
   "metadata": {},
   "outputs": [
    {
     "name": "stdout",
     "output_type": "stream",
     "text": [
      "hi\n"
     ]
    }
   ],
   "source": [
    "shorten_class_level(df)\n",
    "remove_class_location(df)\n",
    "print(\"hi\")"
   ]
  },
  {
   "cell_type": "code",
   "execution_count": 22,
   "id": "1948d296",
   "metadata": {},
   "outputs": [],
   "source": [
    "def shorten_class_style(df):\n",
    "    df['Classes'] = df['Classes'].str.replace('contemporary', 'Contemp', case=False)"
   ]
  },
  {
   "cell_type": "code",
   "execution_count": 23,
   "id": "fdac0233",
   "metadata": {},
   "outputs": [
    {
     "name": "stdout",
     "output_type": "stream",
     "text": [
      "hi\n"
     ]
    }
   ],
   "source": [
    "shorten_class_style(df)\n",
    "print('hi')"
   ]
  },
  {
   "cell_type": "code",
   "execution_count": 24,
   "id": "0e6b6253",
   "metadata": {},
   "outputs": [],
   "source": [
    "def create_title(series):\n",
    "    df[series] = df[series].str.title()\n",
    "    return df"
   ]
  },
  {
   "cell_type": "code",
   "execution_count": 25,
   "id": "becaf618",
   "metadata": {},
   "outputs": [
    {
     "name": "stdout",
     "output_type": "stream",
     "text": [
      "hi\n"
     ]
    }
   ],
   "source": [
    "create_title('Classes')\n",
    "print('hi')"
   ]
  },
  {
   "cell_type": "code",
   "execution_count": 26,
   "id": "611f8569",
   "metadata": {},
   "outputs": [],
   "source": [
    "df = df.dropna()"
   ]
  },
  {
   "cell_type": "code",
   "execution_count": 27,
   "id": "4102773d",
   "metadata": {},
   "outputs": [
    {
     "data": {
      "text/html": [
       "<style type=\"text/css\">\n",
       "#T_ade47_row0_col0, #T_ade47_row0_col1, #T_ade47_row0_col2, #T_ade47_row0_col3 {\n",
       "  text-align: right;\n",
       "}\n",
       "</style>\n",
       "<table id=\"T_ade47\">\n",
       "  <thead>\n",
       "    <tr>\n",
       "      <th class=\"blank level0\" >&nbsp;</th>\n",
       "      <th id=\"T_ade47_level0_col0\" class=\"col_heading level0 col0\" >Start time</th>\n",
       "      <th id=\"T_ade47_level0_col1\" class=\"col_heading level0 col1\" >Classes</th>\n",
       "      <th id=\"T_ade47_level0_col2\" class=\"col_heading level0 col2\" >Instructor</th>\n",
       "      <th id=\"T_ade47_level0_col3\" class=\"col_heading level0 col3\" >Length</th>\n",
       "    </tr>\n",
       "  </thead>\n",
       "  <tbody>\n",
       "    <tr>\n",
       "      <th id=\"T_ade47_level0_row0\" class=\"row_heading level0 row0\" >0</th>\n",
       "      <td id=\"T_ade47_row0_col0\" class=\"data row0 col0\" >6:30 pm</td>\n",
       "      <td id=\"T_ade47_row0_col1\" class=\"data row0 col1\" > Open Level Kpop - Joy</td>\n",
       "      <td id=\"T_ade47_row0_col2\" class=\"data row0 col2\" >Joy</td>\n",
       "      <td id=\"T_ade47_row0_col3\" class=\"data row0 col3\" >1 hr 30 min</td>\n",
       "    </tr>\n",
       "  </tbody>\n",
       "</table>\n"
      ],
      "text/plain": [
       "<pandas.io.formats.style.Styler at 0x7fcb0b8dbc40>"
      ]
     },
     "execution_count": 27,
     "metadata": {},
     "output_type": "execute_result"
    }
   ],
   "source": [
    "df.style.set_properties(**{'text-align': 'right'})"
   ]
  },
  {
   "cell_type": "code",
   "execution_count": null,
   "id": "9f4fd39b",
   "metadata": {},
   "outputs": [],
   "source": []
  },
  {
   "cell_type": "code",
   "execution_count": null,
   "id": "fd303911",
   "metadata": {},
   "outputs": [],
   "source": []
  }
 ],
 "metadata": {
  "kernelspec": {
   "display_name": "Python 3 (ipykernel)",
   "language": "python",
   "name": "python3"
  },
  "language_info": {
   "codemirror_mode": {
    "name": "ipython",
    "version": 3
   },
   "file_extension": ".py",
   "mimetype": "text/x-python",
   "name": "python",
   "nbconvert_exporter": "python",
   "pygments_lexer": "ipython3",
   "version": "3.9.12"
  }
 },
 "nbformat": 4,
 "nbformat_minor": 5
}
